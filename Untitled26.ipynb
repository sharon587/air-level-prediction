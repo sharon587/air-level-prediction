import pandas as pd
import numpy as np
import matplotlib.pyplot as plt
import seaborn as sns
from sklearn.model_selection import train_test_split
from sklearn.preprocessing import StandardScaler
from sklearn.ensemble import RandomForestRegressor
from sklearn.metrics import mean_absolute_error, mean_squared_error, r2_score
import joblib

# Load dataset (Replace with actual dataset path)
try:
    df = pd.read_csv("C:\\Users\\sharo\\processed_air_quality_data.csv", encoding="utf-8")
except FileNotFoundError:
    print("Error: Dataset file not found. Please check the path.")
    exit()

# Display column names to verify structure
print("Available Columns:", df.columns)

# Drop unnecessary columns (if any)
df.drop(columns=["Location ID"], inplace=True, errors='ignore')

# Handle missing values (Imputation)
df.fillna(df.select_dtypes(include=[np.number]).mean(), inplace=True)

# Feature Engineering: Convert Timestamp to DateTime & Extract Time Features (Only if exists)
if "Timestamp" in df.columns:
    df["Timestamp"] = pd.to_datetime(df["Timestamp"], errors='coerce')  # Handle invalid timestamps
    df["Hour"] = df["Timestamp"].dt.hour
    df["Day"] = df["Timestamp"].dt.day
    df["Month"] = df["Timestamp"].dt.month
    df["Year"] = df["Timestamp"].dt.year
else:
    print("Warning: 'Timestamp' column is missing. Skipping time feature extraction.")

# Define Features (X) and Target Variable (y)
if "AQI" in df.columns:
    X = df.drop(columns=["AQI", "Timestamp"], errors='ignore')  # Features
    y = df["AQI"]

    # Split Data into Training & Testing Sets
    X_train, X_test, y_train, y_test = train_test_split(X, y, test_size=0.2, random_state=42)

    # Standardize Features
    scaler = StandardScaler()
    X_train_scaled = scaler.fit_transform(X_train)
    X_test_scaled = scaler.transform(X_test)

    # Train Machine Learning Model (Random Forest Regressor)
    model = RandomForestRegressor(n_estimators=200, random_state=42)
    model.fit(X_train_scaled, y_train)

    # Save Model & Scaler for Future Predictions
    joblib.dump(model, "air_quality_model.pkl")
    joblib.dump(scaler, "scaler.pkl")

    # Model Evaluation
    y_pred = model.predict(X_test_scaled)
    mae = mean_absolute_error(y_test, y_pred)
    mse = mean_squared_error(y_test, y_pred)
    r2 = r2_score(y_test, y_pred)

    print("\nModel Performance:")
    print(f"Mean Absolute Error (MAE): {mae:.2f}")
    print(f"Mean Squared Error (MSE): {mse:.2f}")
    print(f"R² Score: {r2:.2f}")

    # Visualization of Predictions vs Actual AQI
    plt.figure(figsize=(10, 5))
    sns.scatterplot(x=y_test, y=y_pred, alpha=0.7)
    plt.xlabel("Actual AQI")
    plt.ylabel("Predicted AQI")
    plt.title("Actual vs Predicted Air Quality Index")
    plt.show()

    # Function for Real-Time Prediction
    def predict_air_quality(input_data):
        """Predict AQI based on new environmental data."""
        model = joblib.load("air_quality_model.pkl")
        scaler = joblib.load("scaler.pkl")

        input_df = pd.DataFrame([input_data], columns=X.columns)
        input_scaled = scaler.transform(input_df)

        predicted_aqi = model.predict(input_scaled)[0]
        return round(predicted_aqi, 2)

    # Example Real-Time Prediction
    new_data = {
        "PM2.5": 35.2, "PM10": 60.5, "CO": 0.8, "NO2": 22.1, "SO2": 5.3, "O3": 18.7,
        "Temperature": 28.5, "Humidity": 65.2, "Wind Speed": 3.2, "Wind Direction": 180,
        "Precipitation": 2.1, "Traffic Density": 1200, "Industrial Emissions": 75.4,
        "Hour": 14, "Day": 15, "Month": 5, "Year": 2023
    }

    predicted_aqi = predict_air_quality(new_data)
    print(f"\nPredicted AQI for given environmental conditions: {predicted_aqi}")
else:
    print("Error: AQI column not found in dataset. Please check the dataset.")



